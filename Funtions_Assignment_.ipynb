{
  "nbformat": 4,
  "nbformat_minor": 0,
  "metadata": {
    "colab": {
      "provenance": []
    },
    "kernelspec": {
      "name": "python3",
      "display_name": "Python 3"
    },
    "language_info": {
      "name": "python"
    }
  },
  "cells": [
    {
      "cell_type": "markdown",
      "source": [],
      "metadata": {
        "id": "hfNp1VlQ5uf5"
      }
    },
    {
      "cell_type": "markdown",
      "source": [
        "1. What is the difference between a function and a method in Python?\n",
        "\n",
        "   - In Python, a function is a block of reusable code defined using the def keyword that operates independently, while a method is a function that belongs to an object and is called on it. Methods are functions defined inside a class and typically operate on instance data. The key difference is that methods are associated with objects and can access their attributes, whereas functions are standalone.\n",
        "\n",
        "  # Example\n",
        "   "
      ],
      "metadata": {
        "id": "39TzfmNh56O3"
      }
    },
    {
      "cell_type": "code",
      "source": [
        "# Function (independent)\n",
        "def greet(name):\n",
        "    return f\"Hello, {name}!\"\n",
        "\n",
        "print(greet(\"Bhavesh\"))  # Output: Hello, Alice!\n",
        "\n",
        "# Method (inside a class)\n",
        "class Person:\n",
        "    def __init__(self, name):\n",
        "        self.name = name\n",
        "\n",
        "    def greet(self):  # Method operating on the instance\n",
        "        return f\"Hello, {self.name}!\"\n",
        "\n",
        "p = Person(\"Riya\")\n",
        "print(p.greet())\n"
      ],
      "metadata": {
        "colab": {
          "base_uri": "https://localhost:8080/"
        },
        "id": "eOzksJ-H6SgV",
        "outputId": "a3fe9e9d-3d46-4a5b-ae4f-5f2418da5582"
      },
      "execution_count": null,
      "outputs": [
        {
          "output_type": "stream",
          "name": "stdout",
          "text": [
            "Hello, Bhavesh!\n",
            "Hello, Riya!\n"
          ]
        }
      ]
    },
    {
      "cell_type": "markdown",
      "source": [
        " 2. Explain the concept of function arguments and parameters in Python\n",
        "     - In Python, parameters are the variables listed in a function's definition, while arguments are the actual values passed to the function when it is called. There are four types of function arguments: positional arguments (matched by position), keyword arguments (matched by name), default arguments (having predefined values if not provided), and variable-length arguments (*args for multiple positional arguments and **kwargs for multiple keyword arguments).\n",
        "\n",
        "     # Example"
      ],
      "metadata": {
        "id": "CXTZBWqY6gbm"
      }
    },
    {
      "cell_type": "code",
      "source": [
        "def greet(name, message=\"Hello\"):  # 'name' is a required parameter, 'message' has a default value\n",
        "    return f\"{message}, {name}!\"\n",
        "\n",
        "print(greet(\"Bhavesh\"))              # Positional argument (Output: Hello, Alice!)\n",
        "print(greet(name=\"Riya\", message=\"Hi\"))  # Keyword arguments (Output: Hi, Bob!)\n"
      ],
      "metadata": {
        "colab": {
          "base_uri": "https://localhost:8080/"
        },
        "id": "yT3VKIp663Lk",
        "outputId": "3cc96de7-7a7b-4da7-84a8-e415920c43e6"
      },
      "execution_count": null,
      "outputs": [
        {
          "output_type": "stream",
          "name": "stdout",
          "text": [
            "Hello, Bhavesh!\n",
            "Hi, Riya!\n"
          ]
        }
      ]
    },
    {
      "cell_type": "markdown",
      "source": [
        "3. What are the different ways to define and call a function in Python?\n",
        "\n",
        "- In Python, functions can be defined using the def keyword or as lambda (anonymous) functions using the lambda keyword. Functions can be called using positional arguments, keyword arguments, default arguments, and variable-length arguments (*args for multiple positional arguments, **kwargs for multiple keyword arguments). They can also be called using unpacking operators (* and **) to pass iterable or dictionary data dynamically.\n",
        "\n",
        "#Example"
      ],
      "metadata": {
        "id": "plOf71EV7HJj"
      }
    },
    {
      "cell_type": "code",
      "source": [
        "# Regular function\n",
        "def add(a, b=5):  # 'b' has a default value\n",
        "    return a + b\n",
        "\n",
        "print(add(3))           # Default argument (Output: 8)\n",
        "print(add(3, 2))        # Positional arguments (Output: 5)\n",
        "print(add(a=4, b=6))    # Keyword arguments (Output: 10)\n",
        "\n",
        "# Lambda function\n",
        "multiply = lambda x, y: x * y\n",
        "print(multiply(2, 3))\n"
      ],
      "metadata": {
        "colab": {
          "base_uri": "https://localhost:8080/"
        },
        "id": "5p5D4Z2v7bfm",
        "outputId": "ec075232-6e62-4151-c2a0-25b4b3491e60"
      },
      "execution_count": null,
      "outputs": [
        {
          "output_type": "stream",
          "name": "stdout",
          "text": [
            "8\n",
            "5\n",
            "10\n",
            "6\n"
          ]
        }
      ]
    },
    {
      "cell_type": "markdown",
      "source": [
        "4.  What is the purpose of the `return` statement in a Python function?\n",
        "\n",
        "     - The return statement in Python is used to send a value or multiple values from a function back to the caller, effectively ending the function's execution. If no return statement is used, the function returns None by default. It allows functions to produce output that can be stored in variables, used in expressions, or passed to other functions.\n",
        "\n",
        "     # Example"
      ],
      "metadata": {
        "id": "DwsR2rem7lJB"
      }
    },
    {
      "cell_type": "code",
      "source": [
        "def square(num):\n",
        "    return num * num  # Returns the square of the input\n",
        "\n",
        "result = square(4)\n",
        "print(result)\n"
      ],
      "metadata": {
        "colab": {
          "base_uri": "https://localhost:8080/"
        },
        "id": "n8tm8zVN76_H",
        "outputId": "bb3a6c6b-cc87-42ce-9476-e72a7048beaf"
      },
      "execution_count": null,
      "outputs": [
        {
          "output_type": "stream",
          "name": "stdout",
          "text": [
            "16\n"
          ]
        }
      ]
    },
    {
      "cell_type": "markdown",
      "source": [
        "5.  What are iterators in Python and how do they differ from iterables?\n",
        "\n",
        "- In Python, an iterable is any object that can return an iterator, meaning it can be looped over (e.g., lists, tuples, strings). It must implement the __iter__() method. An iterator is an object that represents a stream of data and returns elements one at a time using the __next__() method. Iterators are stateful and remember where they left off, while iterables generate new iterators when needed. Iterators are useful for memory-efficient looping, especially with large datasets.\n",
        "\n",
        "#Example"
      ],
      "metadata": {
        "id": "k0V3gAVC7_dj"
      }
    },
    {
      "cell_type": "code",
      "source": [
        "my_list = [1, 2, 3]  # Iterable\n",
        "iterator = iter(my_list)  # Creating an iterator from the iterable\n",
        "\n",
        "print(next(iterator))  # Output: 1\n",
        "print(next(iterator))  # Output: 2\n",
        "print(next(iterator))  # Output: 3\n",
        "# print(next(iterator))  # Raises StopIteration since no more elements\n"
      ],
      "metadata": {
        "colab": {
          "base_uri": "https://localhost:8080/"
        },
        "id": "RAxXkW1H8O11",
        "outputId": "46097886-2738-4e3f-de79-36fb47792f6a"
      },
      "execution_count": null,
      "outputs": [
        {
          "output_type": "stream",
          "name": "stdout",
          "text": [
            "1\n",
            "2\n",
            "3\n"
          ]
        }
      ]
    },
    {
      "cell_type": "markdown",
      "source": [
        "6.  Explain the concept of generators in Python and how they are defined.\n",
        "\n",
        "   - Generators in Python are special iterators that generate values lazily using the yield keyword instead of returning all values at once. This makes them memory-efficient for handling large datasets. Unlike regular functions that return a single value and terminate, generators pause at yield, saving their state, and resume from there on the next call. They are defined like normal functions but use yield instead of return.\n",
        "\n",
        "\n",
        "  # Example"
      ],
      "metadata": {
        "id": "xB2AGNwC8Sn1"
      }
    },
    {
      "cell_type": "code",
      "execution_count": null,
      "metadata": {
        "colab": {
          "base_uri": "https://localhost:8080/"
        },
        "id": "VJVjqu3v5o3A",
        "outputId": "8eecbdf3-76e4-4326-baee-eef588f01d21"
      },
      "outputs": [
        {
          "output_type": "stream",
          "name": "stdout",
          "text": [
            "1\n",
            "2\n",
            "3\n"
          ]
        }
      ],
      "source": [
        "def count_up_to(n):\n",
        "    count = 1\n",
        "    while count <= n:\n",
        "        yield count  # Pauses and returns the current value\n",
        "        count += 1\n",
        "\n",
        "gen = count_up_to(3)\n",
        "print(next(gen))  # Output: 1\n",
        "print(next(gen))  # Output: 2\n",
        "print(next(gen))  # Output: 3\n",
        "# print(next(gen))  # Raises StopIteration since the generator is exhausted\n"
      ]
    },
    {
      "cell_type": "markdown",
      "source": [
        "7.  What are the advantages of using generators over regular functions?\n",
        "\n",
        "   - Generators offer several advantages over regular functions, primarily memory efficiency, lazy evaluation, and improved performance. Since they yield values one at a time instead of returning an entire collection at once, they are ideal for handling large datasets without consuming excessive memory. They also maintain their state between calls, allowing efficient iteration without recomputation. Generators are useful for streaming data, processing logs, and implementing infinite sequences.\n",
        "\n",
        "   # Example"
      ],
      "metadata": {
        "id": "xZ1rNq288v01"
      }
    },
    {
      "cell_type": "code",
      "source": [
        "def generate_numbers():\n",
        "    for i in range(1, 4):\n",
        "        yield i  # Generates numbers lazily\n",
        "\n",
        "gen = generate_numbers()\n",
        "print(next(gen))  # Output: 1\n",
        "print(next(gen))  # Output: 2\n",
        "print(next(gen))  # Output: 3\n"
      ],
      "metadata": {
        "colab": {
          "base_uri": "https://localhost:8080/"
        },
        "id": "hepNxb0W9Cyh",
        "outputId": "3de484ce-6bf8-4406-ddab-58c0cc66c5b9"
      },
      "execution_count": null,
      "outputs": [
        {
          "output_type": "stream",
          "name": "stdout",
          "text": [
            "1\n",
            "2\n",
            "3\n"
          ]
        }
      ]
    },
    {
      "cell_type": "markdown",
      "source": [
        " 8.  What is a lambda function in Python and when is it typically used?\n",
        "\n",
        "     - A lambda function in Python is an anonymous, single-expression function defined using the lambda keyword. It is typically used for short, simple operations where defining a full function with def would be unnecessary. Lambda functions are commonly used in functional programming with functions like map(), filter(), and sorted(), or for quick calculations inside other functions. They help keep the code concise and readable for small tasks.\n",
        "\n",
        "# Example"
      ],
      "metadata": {
        "id": "jkWShZvXAlF8"
      }
    },
    {
      "cell_type": "code",
      "source": [
        "square = lambda x: x * x  # Lambda function to square a number\n",
        "print(square(5))"
      ],
      "metadata": {
        "colab": {
          "base_uri": "https://localhost:8080/"
        },
        "id": "PsHcd3kqA72P",
        "outputId": "b8763859-1c64-4905-c1d4-3972f2a64432"
      },
      "execution_count": 9,
      "outputs": [
        {
          "output_type": "stream",
          "name": "stdout",
          "text": [
            "25\n"
          ]
        }
      ]
    },
    {
      "cell_type": "markdown",
      "source": [
        "9. Explain the purpose and usage of the `map()` function in Python.\n",
        "\n",
        "   - The map() function in Python is used to apply a given function to all elements of an iterable (e.g., a list or tuple) and return a map object (iterator) containing the results. It is useful for performing transformations on data without using explicit loops, making the code more concise and efficient. The syntax is map(function, iterable), and it can be converted to a list or other collection if needed.\n",
        "\n",
        "   # Example"
      ],
      "metadata": {
        "id": "in1JQRapBAOH"
      }
    },
    {
      "cell_type": "code",
      "source": [
        "numbers = [1, 2, 3, 4]\n",
        "squared = map(lambda x: x ** 2, numbers)  # Apply lambda function to square each number\n",
        "print(list(squared))\n"
      ],
      "metadata": {
        "colab": {
          "base_uri": "https://localhost:8080/"
        },
        "id": "4Yiso4qmBNfN",
        "outputId": "55f133eb-88d0-4a0a-a491-6ba16ec0cc39"
      },
      "execution_count": 10,
      "outputs": [
        {
          "output_type": "stream",
          "name": "stdout",
          "text": [
            "[1, 4, 9, 16]\n"
          ]
        }
      ]
    },
    {
      "cell_type": "markdown",
      "source": [
        "10.  What is the difference between `map()`, `reduce()`, and `filter()` functions in Python?\n",
        "\n",
        "-  The map(), reduce(), and filter() functions in Python are used for functional programming but serve different purposes. map(function, iterable) applies a function to each element of an iterable and returns a map object. filter(function, iterable) applies a function that returns True or False to each element, keeping only those that evaluate to True. reduce(function, iterable) (from functools) applies a function cumulatively to reduce an iterable to a single value.\n",
        "\n",
        "# Example"
      ],
      "metadata": {
        "id": "JynWwqxhBS_P"
      }
    },
    {
      "cell_type": "code",
      "source": [
        "from functools import reduce\n",
        "\n",
        "numbers = [1, 2, 3, 4, 5]\n",
        "\n",
        "# map() - Squares each element\n",
        "squared = list(map(lambda x: x ** 2, numbers))\n",
        "print(squared)  # Output: [1, 4, 9, 16, 25]\n",
        "\n",
        "# filter() - Keeps only even numbers\n",
        "evens = list(filter(lambda x: x % 2 == 0, numbers))\n",
        "print(evens)  # Output: [2, 4]\n",
        "\n",
        "# reduce() - Computes the sum of all elements\n",
        "sum_numbers = reduce(lambda x, y: x + y, numbers)\n",
        "print(sum_numbers)  # Output: 15\n"
      ],
      "metadata": {
        "colab": {
          "base_uri": "https://localhost:8080/"
        },
        "id": "fua5PYLtBrbb",
        "outputId": "c9182c8c-bbca-4a5f-e3da-8dd2acaa7e3e"
      },
      "execution_count": 11,
      "outputs": [
        {
          "output_type": "stream",
          "name": "stdout",
          "text": [
            "[1, 4, 9, 16, 25]\n",
            "[2, 4]\n",
            "15\n"
          ]
        }
      ]
    },
    {
      "cell_type": "markdown",
      "source": [
        "11. Using pen & Paper write the internal mechanism for sum operation using  reduce function on this given\n",
        "list:[47,11,42,13]\n",
        "\n",
        "\n",
        "-   The reduce() function works by cumulatively applying a function to elements of an iterable, reducing it to a single value. Internally, it follows a step-by-step process:\n",
        "\n",
        "1. Take the first two elements: 47 and 11. Apply the function (47 + 11 = 58).\n",
        "2. Take the result (58) and the next element (42). Apply the function (58 + 42 = 100).\n",
        "3. Take the result (100) and the next element (13). Apply the function (100 + 13 = 113).\n",
        "4. Since there are no more elements, 113 is returned as the final result.\n",
        "\n",
        "# Example\n"
      ],
      "metadata": {
        "id": "kkz33k_HBuvb"
      }
    },
    {
      "cell_type": "code",
      "source": [
        "from functools import reduce\n",
        "\n",
        "numbers = [47, 11, 42, 13]\n",
        "sum_result = reduce(lambda x, y: x + y, numbers)\n",
        "print(sum_result)  # Output: 113\n"
      ],
      "metadata": {
        "colab": {
          "base_uri": "https://localhost:8080/"
        },
        "id": "Z78Vx03DCKlX",
        "outputId": "364091cb-b82c-4152-bd8e-c0b98b75b33d"
      },
      "execution_count": 12,
      "outputs": [
        {
          "output_type": "stream",
          "name": "stdout",
          "text": [
            "113\n"
          ]
        }
      ]
    },
    {
      "cell_type": "markdown",
      "source": [
        "# Practical Questions"
      ],
      "metadata": {
        "id": "MhMDgMnMCNvF"
      }
    },
    {
      "cell_type": "code",
      "source": [
        "#1. Write a Python function that takes a list of numbers as input and returns the sum of all even numbers in the list.\n",
        "\n",
        "\n",
        "def sum_of_evens(numbers):\n",
        "    return sum(filter(lambda x: x % 2 == 0, numbers))\n",
        "\n",
        "# Example usage\n",
        "nums = [1, 2, 3, 4, 5, 6, 7, 8]\n",
        "print(sum_of_evens(nums))  # Output: 20 (2 + 4 + 6 + 8)\n",
        "\n"
      ],
      "metadata": {
        "colab": {
          "base_uri": "https://localhost:8080/"
        },
        "id": "ZtSjvBG-CS0U",
        "outputId": "176e6c48-edef-436a-8337-2513e6edef29"
      },
      "execution_count": 17,
      "outputs": [
        {
          "output_type": "stream",
          "name": "stdout",
          "text": [
            "20\n"
          ]
        }
      ]
    },
    {
      "cell_type": "code",
      "source": [
        "#2.  Create a Python function that accepts a string and returns the reverse of that string.\n",
        "\n",
        "def reverse_string(s):\n",
        "    return s[::-1]  # Slicing method to reverse the string\n",
        "\n",
        "# Example usage\n",
        "text = \"Hello, World!\"\n",
        "print(reverse_string(text))  # Output: \"!dlroW ,olleH\"\n",
        "\n"
      ],
      "metadata": {
        "colab": {
          "base_uri": "https://localhost:8080/"
        },
        "id": "R8THFCvlC5lV",
        "outputId": "60ea8dbe-56dd-4321-f4ab-6600a9f809dc"
      },
      "execution_count": 22,
      "outputs": [
        {
          "output_type": "stream",
          "name": "stdout",
          "text": [
            "!dlroW ,olleH\n"
          ]
        }
      ]
    },
    {
      "cell_type": "code",
      "source": [
        "#3.  Implement a Python function that takes a list of integers and returns a new list containing the squares of each number.\n",
        "\n",
        "def square_numbers(numbers):\n",
        "    return [num ** 2 for num in numbers]  # List comprehension to square each number\n",
        "\n",
        "# Example usage\n",
        "nums = [1, 2, 3, 4, 5]\n",
        "print(square_numbers(nums))  # Output: [1, 4, 9, 16, 25]\n"
      ],
      "metadata": {
        "colab": {
          "base_uri": "https://localhost:8080/"
        },
        "id": "KeIBDYorDW4P",
        "outputId": "c7d63a5e-867e-43ff-8aba-3539316987f6"
      },
      "execution_count": 23,
      "outputs": [
        {
          "output_type": "stream",
          "name": "stdout",
          "text": [
            "[1, 4, 9, 16, 25]\n"
          ]
        }
      ]
    },
    {
      "cell_type": "code",
      "source": [
        "4. #Write a Python function that checks if a given number is prime or not from 1 to 200.\n",
        "\n",
        "\n",
        "def is_prime(n):\n",
        "    if n < 2:\n",
        "        return False  # 0 and 1 are not prime numbers\n",
        "    for i in range(2, int(n ** 0.5) + 1):  # Check divisibility up to sqrt(n)\n",
        "        if n % i == 0:\n",
        "            return False\n",
        "    return True\n",
        "\n",
        "# Checking prime numbers from 1 to 200\n",
        "prime_numbers = [num for num in range(1, 201) if is_prime(num)]\n",
        "print(prime_numbers)\n"
      ],
      "metadata": {
        "colab": {
          "base_uri": "https://localhost:8080/"
        },
        "id": "j9CfnlVhDhpm",
        "outputId": "23ebe7d2-b756-446b-be74-a15e9fa6e3a3"
      },
      "execution_count": 25,
      "outputs": [
        {
          "output_type": "stream",
          "name": "stdout",
          "text": [
            "[2, 3, 5, 7, 11, 13, 17, 19, 23, 29, 31, 37, 41, 43, 47, 53, 59, 61, 67, 71, 73, 79, 83, 89, 97, 101, 103, 107, 109, 113, 127, 131, 137, 139, 149, 151, 157, 163, 167, 173, 179, 181, 191, 193, 197, 199]\n"
          ]
        }
      ]
    },
    {
      "cell_type": "code",
      "source": [
        "#5.  Create an iterator class in Python that generates the Fibonacci sequence up to a specified number of terms.\n",
        "\n",
        "class FibonacciIterator:\n",
        "    def __init__(self, n_terms):\n",
        "        self.n_terms = n_terms  # Total terms to generate\n",
        "        self.a, self.b = 0, 1   # Initial Fibonacci numbers\n",
        "        self.count = 0          # Counter for iteration\n",
        "\n",
        "    def __iter__(self):\n",
        "        return self  # Returns the iterator itself\n",
        "\n",
        "    def __next__(self):\n",
        "        if self.count >= self.n_terms:  # Stop iteration when limit is reached\n",
        "            raise StopIteration\n",
        "        fib_number = self.a\n",
        "        self.a, self.b = self.b, self.a + self.b  # Update Fibonacci values\n",
        "        self.count += 1\n",
        "        return fib_number\n",
        "\n",
        "# Example usage:\n",
        "fib_iterator = FibonacciIterator(10)  # Generate first 10 Fibonacci numbers\n",
        "print(list(fib_iterator))  # Output: [0, 1, 1, 2, 3, 5, 8, 13, 21, 34]\n"
      ],
      "metadata": {
        "colab": {
          "base_uri": "https://localhost:8080/"
        },
        "id": "vSg3dDuZDsd_",
        "outputId": "474d579b-ca25-4d13-f7f9-75317f76283a"
      },
      "execution_count": 26,
      "outputs": [
        {
          "output_type": "stream",
          "name": "stdout",
          "text": [
            "[0, 1, 1, 2, 3, 5, 8, 13, 21, 34]\n"
          ]
        }
      ]
    },
    {
      "cell_type": "code",
      "source": [
        "#6. Write a generator function in Python that yields the powers of 2 up to a given exponent.\n",
        "\n",
        "def powers_of_two(max_exponent):\n",
        "    for exponent in range(max_exponent + 1):\n",
        "        yield 2 ** exponent  # Generate 2^exponent\n",
        "\n",
        "# Example usage:\n",
        "for power in powers_of_two(5):\n",
        "    print(power)\n"
      ],
      "metadata": {
        "colab": {
          "base_uri": "https://localhost:8080/"
        },
        "id": "aYYFrlQID7IJ",
        "outputId": "c7a32687-4b44-4144-8613-74fe028b04e2"
      },
      "execution_count": 27,
      "outputs": [
        {
          "output_type": "stream",
          "name": "stdout",
          "text": [
            "1\n",
            "2\n",
            "4\n",
            "8\n",
            "16\n",
            "32\n"
          ]
        }
      ]
    },
    {
      "cell_type": "code",
      "source": [
        "#7 Implement a generator function that reads a file line by line and yields each line as a string.\n",
        "\n",
        "def read_file_line_by_line(filename):\n",
        "    \"\"\"Generator function to read a file line by line.\"\"\"\n",
        "    with open(filename, \"r\", encoding=\"utf-8\") as file:\n",
        "        for line in file:\n",
        "            yield line.strip()  # Yield each line, removing leading/trailing whitespace\n",
        "\n",
        "# Example usage:\n",
        "filename = \"example.txt\"  # Make sure this file exists in the correct directory\n",
        "for line in read_file_line_by_line(filename):\n",
        "    print(line)\n",
        "\n"
      ],
      "metadata": {
        "colab": {
          "base_uri": "https://localhost:8080/",
          "height": 332
        },
        "id": "0QDjctUsEFG_",
        "outputId": "a24c8eab-95d9-45f0-ed77-293fde300041"
      },
      "execution_count": 39,
      "outputs": [
        {
          "output_type": "error",
          "ename": "FileNotFoundError",
          "evalue": "[Errno 2] No such file or directory: 'example.txt'",
          "traceback": [
            "\u001b[0;31m---------------------------------------------------------------------------\u001b[0m",
            "\u001b[0;31mFileNotFoundError\u001b[0m                         Traceback (most recent call last)",
            "\u001b[0;32m<ipython-input-39-5a77019879b2>\u001b[0m in \u001b[0;36m<cell line: 0>\u001b[0;34m()\u001b[0m\n\u001b[1;32m      9\u001b[0m \u001b[0;31m# Example usage:\u001b[0m\u001b[0;34m\u001b[0m\u001b[0;34m\u001b[0m\u001b[0m\n\u001b[1;32m     10\u001b[0m \u001b[0mfilename\u001b[0m \u001b[0;34m=\u001b[0m \u001b[0;34m\"example.txt\"\u001b[0m  \u001b[0;31m# Make sure this file exists in the correct directory\u001b[0m\u001b[0;34m\u001b[0m\u001b[0;34m\u001b[0m\u001b[0m\n\u001b[0;32m---> 11\u001b[0;31m \u001b[0;32mfor\u001b[0m \u001b[0mline\u001b[0m \u001b[0;32min\u001b[0m \u001b[0mread_file_line_by_line\u001b[0m\u001b[0;34m(\u001b[0m\u001b[0mfilename\u001b[0m\u001b[0;34m)\u001b[0m\u001b[0;34m:\u001b[0m\u001b[0;34m\u001b[0m\u001b[0;34m\u001b[0m\u001b[0m\n\u001b[0m\u001b[1;32m     12\u001b[0m     \u001b[0mprint\u001b[0m\u001b[0;34m(\u001b[0m\u001b[0mline\u001b[0m\u001b[0;34m)\u001b[0m\u001b[0;34m\u001b[0m\u001b[0;34m\u001b[0m\u001b[0m\n\u001b[1;32m     13\u001b[0m \u001b[0;34m\u001b[0m\u001b[0m\n",
            "\u001b[0;32m<ipython-input-39-5a77019879b2>\u001b[0m in \u001b[0;36mread_file_line_by_line\u001b[0;34m(filename)\u001b[0m\n\u001b[1;32m      3\u001b[0m \u001b[0;32mdef\u001b[0m \u001b[0mread_file_line_by_line\u001b[0m\u001b[0;34m(\u001b[0m\u001b[0mfilename\u001b[0m\u001b[0;34m)\u001b[0m\u001b[0;34m:\u001b[0m\u001b[0;34m\u001b[0m\u001b[0;34m\u001b[0m\u001b[0m\n\u001b[1;32m      4\u001b[0m     \u001b[0;34m\"\"\"Generator function to read a file line by line.\"\"\"\u001b[0m\u001b[0;34m\u001b[0m\u001b[0;34m\u001b[0m\u001b[0m\n\u001b[0;32m----> 5\u001b[0;31m     \u001b[0;32mwith\u001b[0m \u001b[0mopen\u001b[0m\u001b[0;34m(\u001b[0m\u001b[0mfilename\u001b[0m\u001b[0;34m,\u001b[0m \u001b[0;34m\"r\"\u001b[0m\u001b[0;34m,\u001b[0m \u001b[0mencoding\u001b[0m\u001b[0;34m=\u001b[0m\u001b[0;34m\"utf-8\"\u001b[0m\u001b[0;34m)\u001b[0m \u001b[0;32mas\u001b[0m \u001b[0mfile\u001b[0m\u001b[0;34m:\u001b[0m\u001b[0;34m\u001b[0m\u001b[0;34m\u001b[0m\u001b[0m\n\u001b[0m\u001b[1;32m      6\u001b[0m         \u001b[0;32mfor\u001b[0m \u001b[0mline\u001b[0m \u001b[0;32min\u001b[0m \u001b[0mfile\u001b[0m\u001b[0;34m:\u001b[0m\u001b[0;34m\u001b[0m\u001b[0;34m\u001b[0m\u001b[0m\n\u001b[1;32m      7\u001b[0m             \u001b[0;32myield\u001b[0m \u001b[0mline\u001b[0m\u001b[0;34m.\u001b[0m\u001b[0mstrip\u001b[0m\u001b[0;34m(\u001b[0m\u001b[0;34m)\u001b[0m  \u001b[0;31m# Yield each line, removing leading/trailing whitespace\u001b[0m\u001b[0;34m\u001b[0m\u001b[0;34m\u001b[0m\u001b[0m\n",
            "\u001b[0;31mFileNotFoundError\u001b[0m: [Errno 2] No such file or directory: 'example.txt'"
          ]
        }
      ]
    },
    {
      "cell_type": "code",
      "source": [
        "#8. Use a lambda function in Python to sort a list of tuples based on the second element of each tuple\n",
        "\n",
        "# List of tuples\n",
        "data = [(1, 5), (3, 2), (4, 8), (2, 1)]\n",
        "\n",
        "# Sorting based on the second element of each tuple\n",
        "sorted_data = sorted(data, key=lambda x: x[1])\n",
        "\n",
        "print(sorted_data)  # Output: [(2, 1), (3, 2), (1, 5), (4, 8)]\n"
      ],
      "metadata": {
        "colab": {
          "base_uri": "https://localhost:8080/"
        },
        "id": "KH6C75IIFPFL",
        "outputId": "982db194-43cf-4d85-87e9-811376c69de4"
      },
      "execution_count": 35,
      "outputs": [
        {
          "output_type": "stream",
          "name": "stdout",
          "text": [
            "[(2, 1), (3, 2), (1, 5), (4, 8)]\n"
          ]
        }
      ]
    },
    {
      "cell_type": "code",
      "source": [
        "#9. Write a Python program that uses `map()` to convert a list of temperatures from Celsius to Fahrenheit.\n",
        "\n",
        "# Function to convert Celsius to Fahrenheit\n",
        "def celsius_to_fahrenheit(celsius):\n",
        "    return (celsius * 9/5) + 32\n",
        "\n",
        "# List of temperatures in Celsius\n",
        "celsius_temps = [0, 20, 30, 40, 100]\n",
        "\n",
        "# Convert using map()\n",
        "fahrenheit_temps = list(map(celsius_to_fahrenheit, celsius_temps))\n",
        "\n",
        "# Output result\n",
        "print(fahrenheit_temps)  # Output: [32.0, 68.0, 86.0, 104.0, 212.0]\n"
      ],
      "metadata": {
        "colab": {
          "base_uri": "https://localhost:8080/"
        },
        "id": "StxfgXVQFi0x",
        "outputId": "103bba92-cd71-44ee-d668-01c4ba265b3f"
      },
      "execution_count": 36,
      "outputs": [
        {
          "output_type": "stream",
          "name": "stdout",
          "text": [
            "[32.0, 68.0, 86.0, 104.0, 212.0]\n"
          ]
        }
      ]
    },
    {
      "cell_type": "code",
      "source": [
        "#10. Create a Python program that uses `filter()` to remove all the vowels from a given string\n",
        "\n",
        "def remove_vowels(string):\n",
        "    vowels = \"aeiouAEIOU\"  # Define vowels (both lowercase and uppercase)\n",
        "    return \"\".join(filter(lambda char: char not in vowels, string))  # Filter out vowels\n",
        "\n",
        "# Example usage\n",
        "text = \"Hello, World!\"\n",
        "result = remove_vowels(text)\n",
        "print(result)  # Output: \"Hll, Wrld!\"\n"
      ],
      "metadata": {
        "colab": {
          "base_uri": "https://localhost:8080/"
        },
        "id": "4LxcyviiFrPI",
        "outputId": "61ea8bcc-8ebd-45d4-b426-50f31f2faaba"
      },
      "execution_count": 37,
      "outputs": [
        {
          "output_type": "stream",
          "name": "stdout",
          "text": [
            "Hll, Wrld!\n"
          ]
        }
      ]
    },
    {
      "cell_type": "code",
      "source": [
        "#11 Imagine an accounting routine used in a book shop. It works on a list with sublists, which look like this:\n",
        "#Order Number      Book Title and author                Quantity       Price per Item\n",
        "#34587             Learning Python, Mark Lutz              4               40.95\n",
        "#98762             Programming Phyton, Mark Lutz           5               56.80\n",
        "#77226             Head First Phyton, Barry Paul           3               32.95\n",
        "#88112             Einführung in Python3, Bernd Klein      3               24.99\n",
        "#Write a Python program, which returns a list with 2-tuples. Each tuple consists of the order number and the product of the price per item and the quantity. The product should be increased by 10,- € if the value of the order is smaller than 100,00 €.\n",
        "#Write a Python program using lambda and map.\n",
        "\n",
        "\n",
        "# Given list of book orders\n",
        "orders = [\n",
        "    (34587, \"Learning Python, Mark Lutz\", 4, 40.95),\n",
        "    (98762, \"Programming Python, Mark Lutz\", 5, 56.80),\n",
        "    (77226, \"Head First Python, Barry Paul\", 3, 32.95),\n",
        "    (88112, \"Einführung in Python3, Bernd Klein\", 3, 24.99)\n",
        "]\n",
        "\n",
        "# Using lambda and map to calculate the total cost per order\n",
        "processed_orders = list(map(lambda order:\n",
        "                            (order[0], order[2] * order[3] if order[2] * order[3] >= 100 else order[2] * order[3] + 10),\n",
        "                            orders))\n",
        "\n",
        "# Output result\n",
        "print(processed_orders)\n"
      ],
      "metadata": {
        "colab": {
          "base_uri": "https://localhost:8080/"
        },
        "id": "SmVRiynXF4gP",
        "outputId": "75c37fd8-6c86-453f-e034-91a24a9745b0"
      },
      "execution_count": 38,
      "outputs": [
        {
          "output_type": "stream",
          "name": "stdout",
          "text": [
            "[(34587, 163.8), (98762, 284.0), (77226, 108.85000000000001), (88112, 84.97)]\n"
          ]
        }
      ]
    }
  ]
}